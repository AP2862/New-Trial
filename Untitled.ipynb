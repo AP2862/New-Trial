{
 "cells": [
  {
   "cell_type": "code",
   "execution_count": 2,
   "id": "e8eeb1ae",
   "metadata": {},
   "outputs": [
    {
     "name": "stdout",
     "output_type": "stream",
     "text": [
      "Done\n"
     ]
    }
   ],
   "source": [
    "import numpy as np\n",
    "import matplotlib.pyplot as plt\n",
    "from sklearn.linear_model import LinearRegression\n",
    "print(\"Done\")"
   ]
  },
  {
   "cell_type": "code",
   "execution_count": 12,
   "id": "0cbfaded",
   "metadata": {},
   "outputs": [
    {
     "name": "stdout",
     "output_type": "stream",
     "text": [
      "[[10]\n",
      " [11]\n",
      " [12]\n",
      " [13]\n",
      " [14]\n",
      " [15]]\n",
      "[53 52 60 63 72 70]\n"
     ]
    }
   ],
   "source": [
    "xpoints = np.array([10, 11, 12, 13, 14, 15]).reshape(-1,1)\n",
    "ypoints = np.array([53, 52, 60, 63, 72, 70])\n",
    "print(xpoints)\n",
    "print(ypoints)"
   ]
  },
  {
   "cell_type": "code",
   "execution_count": 7,
   "id": "7395073b",
   "metadata": {},
   "outputs": [
    {
     "name": "stdout",
     "output_type": "stream",
     "text": [
      "Done\n"
     ]
    }
   ],
   "source": [
    "linreg = LinearRegression()\n",
    "linreg.fit(xpoints, ypoints)\n",
    "print(\"Done\")\n"
   ]
  },
  {
   "cell_type": "code",
   "execution_count": 8,
   "id": "065d8d0f",
   "metadata": {},
   "outputs": [],
   "source": [
    "y_pred = linreg.predict(xpoints)"
   ]
  },
  {
   "cell_type": "code",
   "execution_count": 9,
   "id": "f88173bf",
   "metadata": {},
   "outputs": [
    {
     "name": "stdout",
     "output_type": "stream",
     "text": [
      "[4.22857143]\n",
      "8.809523809523803\n"
     ]
    }
   ],
   "source": [
    "print(linreg.coef_)\n",
    "print(linreg.intercept_)"
   ]
  },
  {
   "cell_type": "code",
   "execution_count": 11,
   "id": "0869ceff",
   "metadata": {},
   "outputs": [
    {
     "name": "stdout",
     "output_type": "stream",
     "text": [
      "[76.46666667]\n"
     ]
    }
   ],
   "source": [
    "x_new = np.array([16]).reshape(-1,1)\n",
    "y_new = linreg.predict(x_new)\n",
    "print(y_new)"
   ]
  },
  {
   "cell_type": "code",
   "execution_count": null,
   "id": "b76b61a3",
   "metadata": {},
   "outputs": [],
   "source": []
  }
 ],
 "metadata": {
  "kernelspec": {
   "display_name": "Python 3",
   "language": "python",
   "name": "python3"
  },
  "language_info": {
   "codemirror_mode": {
    "name": "ipython",
    "version": 3
   },
   "file_extension": ".py",
   "mimetype": "text/x-python",
   "name": "python",
   "nbconvert_exporter": "python",
   "pygments_lexer": "ipython3",
   "version": "3.7.10"
  }
 },
 "nbformat": 4,
 "nbformat_minor": 5
}
